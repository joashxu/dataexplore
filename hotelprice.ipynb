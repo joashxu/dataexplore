{
 "metadata": {
  "name": "hotelprice"
 },
 "nbformat": 3,
 "nbformat_minor": 0,
 "worksheets": [
  {
   "cells": [
    {
     "cell_type": "heading",
     "level": 1,
     "metadata": {},
     "source": [
      "Exploring Hotel Pricing through booking.com Data"
     ]
    },
    {
     "cell_type": "markdown",
     "metadata": {},
     "source": [
      "This document will note my attempt to explore hotel pricing data. This is part of data exploration project initiated on courseera 'Introduction to Data Science' class.\n",
      "This project is initiated by **Ivan Brigida**. The original project note can be found on courseera forum https://class.coursera.org/datasci-001/forum/thread?thread_id=1636"
     ]
    },
    {
     "cell_type": "markdown",
     "metadata": {},
     "source": [
      "First of all, in case it is not obvious the stack to perform the exploration is as follow:\n",
      " \n",
      "    * Python\n",
      "    * Numpy\n",
      "    * Pandas\n",
      "    * iPython\n",
      "    * Matplotlib"
     ]
    },
    {
     "cell_type": "markdown",
     "metadata": {},
     "source": [
      "*Disclaimer: I am new to data science (that is why I took the class) so excuse me if my make any mistake. Comments, suggestions and directions will be much appreciated*"
     ]
    },
    {
     "cell_type": "heading",
     "level": 2,
     "metadata": {},
     "source": [
      "Warming up"
     ]
    },
    {
     "cell_type": "markdown",
     "metadata": {},
     "source": [
      "I will take 4 cities from the database and try to answer a simple question: \n",
      "\n",
      "    *What is the price dynamic of those cities?*\n",
      "\n",
      "\n",
      "The cities I have picked:\n",
      "Amsterdam, Beijing, Montreal and New York.\n",
      "Why 4 and why these cities? \n",
      "    Initially I want to take top ten cities to visit by lonelyplanet.\n",
      "    However many of them does not exist. In fact only 3 of them show up in the DB. \n",
      "    So I added New York in.\n",
      "\n",
      "The focus of this phase is just to warm up and get the hang of the tools, libary and the workflow."
     ]
    },
    {
     "cell_type": "markdown",
     "metadata": {},
     "source": [
      "First of... Import all the needed library"
     ]
    },
    {
     "cell_type": "code",
     "collapsed": false,
     "input": [
      "import psycopg2\n",
      "import pandas as pd\n",
      "import pandas.io.sql as psql\n",
      "import matplotlib.pyplot as plt\n",
      "from matplotlib import dates"
     ],
     "language": "python",
     "metadata": {},
     "outputs": [],
     "prompt_number": 1
    },
    {
     "cell_type": "markdown",
     "metadata": {},
     "source": [
      "Connect to our DB and get data out.\n",
      "\n",
      "*Note the trailing space on 'Amsterdam ', some city name has trailing space in them.*"
     ]
    },
    {
     "cell_type": "code",
     "collapsed": false,
     "input": [
      "pgcon = psycopg2.connect('dbname=hotelbooking')\n",
      "df = psql.frame_query(\"\"\"\n",
      "    SELECT city, hotelname, room_price, loaddate \n",
      "    FROM hotelprices \n",
      "    WHERE city='New York' OR city='Beijing' OR city='Amsterdam ' OR city='Montreal' \n",
      "    ORDER BY city, loaddate;\"\"\", pgcon)"
     ],
     "language": "python",
     "metadata": {},
     "outputs": [],
     "prompt_number": 2
    },
    {
     "cell_type": "markdown",
     "metadata": {},
     "source": [
      "We will like to group our data by 'city' and 'loaddate' here since we are trying to get the average hotel prices per city per date."
     ]
    },
    {
     "cell_type": "code",
     "collapsed": false,
     "input": [
      "grouped_df = df.groupby(['city', 'loaddate'], as_index=False).mean()"
     ],
     "language": "python",
     "metadata": {},
     "outputs": [],
     "prompt_number": 3
    },
    {
     "cell_type": "markdown",
     "metadata": {},
     "source": [
      "Lets see the first 5 of the records just to make sure we get what we want."
     ]
    },
    {
     "cell_type": "code",
     "collapsed": false,
     "input": [
      "grouped_df.head()"
     ],
     "language": "python",
     "metadata": {},
     "outputs": [
      {
       "html": [
        "<div style=\"max-height:1000px;max-width:1500px;overflow:auto;\">\n",
        "<table border=\"1\" class=\"dataframe\">\n",
        "  <thead>\n",
        "    <tr style=\"text-align: right;\">\n",
        "      <th></th>\n",
        "      <th>city</th>\n",
        "      <th>loaddate</th>\n",
        "      <th>room_price</th>\n",
        "    </tr>\n",
        "  </thead>\n",
        "  <tbody>\n",
        "    <tr>\n",
        "      <th>0</th>\n",
        "      <td> Amsterdam </td>\n",
        "      <td> 2013-04-26</td>\n",
        "      <td> 219.761172</td>\n",
        "    </tr>\n",
        "    <tr>\n",
        "      <th>1</th>\n",
        "      <td> Amsterdam </td>\n",
        "      <td> 2013-04-27</td>\n",
        "      <td> 220.049883</td>\n",
        "    </tr>\n",
        "    <tr>\n",
        "      <th>2</th>\n",
        "      <td> Amsterdam </td>\n",
        "      <td> 2013-04-28</td>\n",
        "      <td> 220.246916</td>\n",
        "    </tr>\n",
        "    <tr>\n",
        "      <th>3</th>\n",
        "      <td> Amsterdam </td>\n",
        "      <td> 2013-04-29</td>\n",
        "      <td> 220.420997</td>\n",
        "    </tr>\n",
        "    <tr>\n",
        "      <th>4</th>\n",
        "      <td> Amsterdam </td>\n",
        "      <td> 2013-04-30</td>\n",
        "      <td> 222.107528</td>\n",
        "    </tr>\n",
        "  </tbody>\n",
        "</table>\n",
        "</div>"
       ],
       "output_type": "pyout",
       "prompt_number": 4,
       "text": [
        "         city    loaddate  room_price\n",
        "0  Amsterdam   2013-04-26  219.761172\n",
        "1  Amsterdam   2013-04-27  220.049883\n",
        "2  Amsterdam   2013-04-28  220.246916\n",
        "3  Amsterdam   2013-04-29  220.420997\n",
        "4  Amsterdam   2013-04-30  222.107528"
       ]
      }
     ],
     "prompt_number": 4
    },
    {
     "cell_type": "markdown",
     "metadata": {},
     "source": [
      "Looks okay, let's plot this."
     ]
    },
    {
     "cell_type": "code",
     "collapsed": false,
     "input": [
      "hfmt = dates.DateFormatter('%m/%d')\n",
      "fig = plt.figure(figsize=(12, 12))\n",
      "ax = fig.add_subplot(111)\n",
      "ax.set_axisbelow(True) \n",
      "ax.xaxis.set_major_locator(dates.DayLocator())\n",
      "ax.xaxis.set_major_formatter(hfmt)\n",
      "ax.xaxis.grid(color='gray', linestyle='dashed')\n",
      "ax.yaxis.grid(color='gray', linestyle='dashed')\n",
      "for key, group in grouped_df.groupby(['city']):\n",
      "    x = group.ix[:, 1:2].values\n",
      "    x = map(dates.date2num, x)\n",
      "    y = group.ix[:, 2:].values\n",
      "    plt.plot(x, y, label=key)\n",
      "plt.gcf().autofmt_xdate()\n",
      "plt.legend(loc='best')\n",
      "plt.show()\n"
     ],
     "language": "python",
     "metadata": {},
     "outputs": [
      {
       "output_type": "display_data",
       "png": "[encoded data removed]",
       "text": [
        "<matplotlib.figure.Figure at 0x1142cc090>"
       ]
      }
     ],
     "prompt_number": 5
    },
    {
     "cell_type": "markdown",
     "metadata": {},
     "source": [
      "So here we can see that on average which city has the most expensive hotel prices and their price dynamics. \n",
      "No surprise here. New York has the most expensive hotels. "
     ]
    },
    {
     "cell_type": "markdown",
     "metadata": {},
     "source": [
      "One thing to note here is that we are just taking the mean value. I am interested only in Beijing and Montreal at the moment. Let's dig deeper. For simplicity let's just take a single date. Since the prices does not change all that much from day-to-day anyhow."
     ]
    },
    {
     "cell_type": "code",
     "collapsed": false,
     "input": [
      "import datetime\n",
      "beijing_df = df[(df['city'] == 'Beijing') & (df['loaddate'] == datetime.date(2013,4,26))]\n",
      "montreal_df = df[(df['city'] == 'Montreal') & (df['loaddate'] == datetime.date(2013,4,26))]"
     ],
     "language": "python",
     "metadata": {},
     "outputs": [],
     "prompt_number": 6
    },
    {
     "cell_type": "code",
     "collapsed": false,
     "input": [
      "beijing_df.describe()"
     ],
     "language": "python",
     "metadata": {},
     "outputs": [
      {
       "html": [
        "<div style=\"max-height:1000px;max-width:1500px;overflow:auto;\">\n",
        "<table border=\"1\" class=\"dataframe\">\n",
        "  <thead>\n",
        "    <tr style=\"text-align: right;\">\n",
        "      <th></th>\n",
        "      <th>room_price</th>\n",
        "    </tr>\n",
        "  </thead>\n",
        "  <tbody>\n",
        "    <tr>\n",
        "      <th>count</th>\n",
        "      <td> 1896.000000</td>\n",
        "    </tr>\n",
        "    <tr>\n",
        "      <th>mean</th>\n",
        "      <td>  136.752932</td>\n",
        "    </tr>\n",
        "    <tr>\n",
        "      <th>std</th>\n",
        "      <td>  132.808871</td>\n",
        "    </tr>\n",
        "    <tr>\n",
        "      <th>min</th>\n",
        "      <td>    8.910000</td>\n",
        "    </tr>\n",
        "    <tr>\n",
        "      <th>25%</th>\n",
        "      <td>   58.340000</td>\n",
        "    </tr>\n",
        "    <tr>\n",
        "      <th>50%</th>\n",
        "      <td>   95.775000</td>\n",
        "    </tr>\n",
        "    <tr>\n",
        "      <th>75%</th>\n",
        "      <td>  167.282500</td>\n",
        "    </tr>\n",
        "    <tr>\n",
        "      <th>max</th>\n",
        "      <td> 2344.500000</td>\n",
        "    </tr>\n",
        "  </tbody>\n",
        "</table>\n",
        "</div>"
       ],
       "output_type": "pyout",
       "prompt_number": 9,
       "text": [
        "        room_price\n",
        "count  1896.000000\n",
        "mean    136.752932\n",
        "std     132.808871\n",
        "min       8.910000\n",
        "25%      58.340000\n",
        "50%      95.775000\n",
        "75%     167.282500\n",
        "max    2344.500000"
       ]
      }
     ],
     "prompt_number": 9
    },
    {
     "cell_type": "code",
     "collapsed": false,
     "input": [
      "montreal_df.describe()"
     ],
     "language": "python",
     "metadata": {},
     "outputs": [
      {
       "html": [
        "<div style=\"max-height:1000px;max-width:1500px;overflow:auto;\">\n",
        "<table border=\"1\" class=\"dataframe\">\n",
        "  <thead>\n",
        "    <tr style=\"text-align: right;\">\n",
        "      <th></th>\n",
        "      <th>room_price</th>\n",
        "    </tr>\n",
        "  </thead>\n",
        "  <tbody>\n",
        "    <tr>\n",
        "      <th>count</th>\n",
        "      <td>  692.000000</td>\n",
        "    </tr>\n",
        "    <tr>\n",
        "      <th>mean</th>\n",
        "      <td>  157.343642</td>\n",
        "    </tr>\n",
        "    <tr>\n",
        "      <th>std</th>\n",
        "      <td>  100.489271</td>\n",
        "    </tr>\n",
        "    <tr>\n",
        "      <th>min</th>\n",
        "      <td>   19.610000</td>\n",
        "    </tr>\n",
        "    <tr>\n",
        "      <th>25%</th>\n",
        "      <td>   96.047500</td>\n",
        "    </tr>\n",
        "    <tr>\n",
        "      <th>50%</th>\n",
        "      <td>  136.310000</td>\n",
        "    </tr>\n",
        "    <tr>\n",
        "      <th>75%</th>\n",
        "      <td>  195.160000</td>\n",
        "    </tr>\n",
        "    <tr>\n",
        "      <th>max</th>\n",
        "      <td> 1077.770000</td>\n",
        "    </tr>\n",
        "  </tbody>\n",
        "</table>\n",
        "</div>"
       ],
       "output_type": "pyout",
       "prompt_number": 10,
       "text": [
        "        room_price\n",
        "count   692.000000\n",
        "mean    157.343642\n",
        "std     100.489271\n",
        "min      19.610000\n",
        "25%      96.047500\n",
        "50%     136.310000\n",
        "75%     195.160000\n",
        "max    1077.770000"
       ]
      }
     ],
     "prompt_number": 10
    },
    {
     "cell_type": "markdown",
     "metadata": {},
     "source": [
      "The Standard Deviation is big suggesting a lot of variance. \n",
      "Let's try to plot this using boxplot."
     ]
    },
    {
     "cell_type": "code",
     "collapsed": false,
     "input": [
      "bp = montreal_df.boxplot()"
     ],
     "language": "python",
     "metadata": {},
     "outputs": [
      {
       "output_type": "display_data",
       "png": "[encoded data removed]",
       "text": [
        "<matplotlib.figure.Figure at 0x129d97750>"
       ]
      }
     ],
     "prompt_number": 131
    },
    {
     "cell_type": "code",
     "collapsed": false,
     "input": [
      "bp = beijing_df.boxplot()"
     ],
     "language": "python",
     "metadata": {},
     "outputs": [
      {
       "output_type": "pyout",
       "prompt_number": 12,
       "text": [
        "{'boxes': [<matplotlib.lines.Line2D at 0x1140ab150>],\n",
        " 'caps': [<matplotlib.lines.Line2D at 0x11409d710>,\n",
        "  <matplotlib.lines.Line2D at 0x11409dc10>],\n",
        " 'fliers': [<matplotlib.lines.Line2D at 0x1140abb50>,\n",
        "  <matplotlib.lines.Line2D at 0x1140ae050>],\n",
        " 'medians': [<matplotlib.lines.Line2D at 0x1140ab650>],\n",
        " 'whiskers': [<matplotlib.lines.Line2D at 0x11407ff10>,\n",
        "  <matplotlib.lines.Line2D at 0x11409d190>]}"
       ]
      },
      {
       "output_type": "display_data",
       "png": "[encoded data removed]",
       "text": [
        "<matplotlib.figure.Figure at 0x1145c1190>"
       ]
      }
     ],
     "prompt_number": 12
    },
    {
     "cell_type": "markdown",
     "metadata": {},
     "source": [
      "It is intresting to see that there are hotel in Beijing that are far more expensive than in Montreal. Let's take a look at the price distribution."
     ]
    },
    {
     "cell_type": "code",
     "collapsed": false,
     "input": [
      "len_bei = len(beijing_df['room_price'])\n",
      "len_mon = len(montreal_df['room_price'])\n",
      "bins = range(0, 1000, 50)\n",
      "\n",
      "fig, axes = plt.subplots(nrows=1, ncols=1)\n",
      "fig.set_size_inches(12, 5)\n",
      "\n",
      "bei_mon = zip(beijing_df['room_price'].values, montreal_df['room_price'].values)\n",
      "bei_mon.extend(zip(beijing_df['room_price'].values[len_mon:], [0]*(len_bei-len_mon)))\n",
      "bei_mon_df = pd.DataFrame(bei_mon, columns=['Beijing', 'Montreal'])\n",
      "h = bei_mon_df.hist(ax=axes, bins=bins, sharey=True)"
     ],
     "language": "python",
     "metadata": {},
     "outputs": [
      {
       "output_type": "display_data",
       "png": "[encoded data removed]",
       "text": [
        "<matplotlib.figure.Figure at 0x12be922d0>"
       ]
      }
     ],
     "prompt_number": 130
    },
    {
     "cell_type": "markdown",
     "metadata": {},
     "source": [
      "It seems like there a lot more less expensive hotel listed on booking.com for Montreal than Beijing. There are more than 1200 listing that cost less then $50 per night."
     ]
    },
    {
     "cell_type": "heading",
     "level": 2,
     "metadata": {},
     "source": [
      "Is Smart Deal really smart?"
     ]
    }
   ],
   "metadata": {}
  }
 ]
}